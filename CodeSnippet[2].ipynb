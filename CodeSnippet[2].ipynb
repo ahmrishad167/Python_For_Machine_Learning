{
 "cells": [
  {
   "cell_type": "markdown",
   "id": "e897db07",
   "metadata": {},
   "source": [
    "## Convention for importing numpy"
   ]
  },
  {
   "cell_type": "code",
   "execution_count": 1,
   "id": "feb14c95",
   "metadata": {},
   "outputs": [],
   "source": [
    "import numpy as np"
   ]
  },
  {
   "cell_type": "code",
   "execution_count": 10,
   "id": "845f8ed9",
   "metadata": {},
   "outputs": [
    {
     "name": "stdout",
     "output_type": "stream",
     "text": [
      "<class 'list'>\n",
      "<class 'numpy.ndarray'>\n",
      "(4,)\n",
      "int32\n",
      "1\n",
      "[[1 2 3]\n",
      " [4 5 6]]\n",
      "2\n",
      "(2, 3)\n"
     ]
    }
   ],
   "source": [
    "arr = [6, 7, 8, 9]\n",
    "print(type(arr)) # prints the type of the array\n",
    "\n",
    "a = np.array(arr)\n",
    "print(type(a)) # prints class type\n",
    "print(a.shape) # prints shape of the array\n",
    "print(a.dtype) # prints the data type\n",
    "# get the dimension of a with ndim\n",
    "print(a.ndim)\n",
    "b = np.array([[1, 2, 3], [4,5,6]])\n",
    "print(b)\n",
    "print(b.ndim)\n",
    "print(b.shape)\n"
   ]
  },
  {
   "cell_type": "markdown",
   "id": "90f911c3",
   "metadata": {},
   "source": [
    "## Inbuilt functions that can be used to initilize numpy"
   ]
  },
  {
   "cell_type": "code",
   "execution_count": 11,
   "id": "5d88df03",
   "metadata": {},
   "outputs": [
    {
     "data": {
      "text/plain": [
       "array([[0.60944991, 0.5877317 , 0.571419  ],\n",
       "       [0.26868832, 0.99436831, 0.1721403 ]])"
      ]
     },
     "execution_count": 11,
     "metadata": {},
     "output_type": "execute_result"
    }
   ],
   "source": [
    "# a 2x3 array with random values\n",
    "np.random.random((2, 3))"
   ]
  },
  {
   "cell_type": "code",
   "execution_count": 12,
   "id": "fcb53c20",
   "metadata": {},
   "outputs": [
    {
     "data": {
      "text/plain": [
       "array([[0., 0., 0.],\n",
       "       [0., 0., 0.]])"
      ]
     },
     "execution_count": 12,
     "metadata": {},
     "output_type": "execute_result"
    }
   ],
   "source": [
    "# a 2x3 array of zeros\n",
    "np.zeros((2, 3))"
   ]
  },
  {
   "cell_type": "code",
   "execution_count": 13,
   "id": "fed38aac",
   "metadata": {},
   "outputs": [
    {
     "data": {
      "text/plain": [
       "array([[1., 1., 1.],\n",
       "       [1., 1., 1.]])"
      ]
     },
     "execution_count": 13,
     "metadata": {},
     "output_type": "execute_result"
    }
   ],
   "source": [
    "# a 2x3 array of ones\n",
    "np.ones((2, 3))"
   ]
  },
  {
   "cell_type": "code",
   "execution_count": 16,
   "id": "cbe23d70",
   "metadata": {},
   "outputs": [
    {
     "data": {
      "text/plain": [
       "array([1., 1.])"
      ]
     },
     "execution_count": 16,
     "metadata": {},
     "output_type": "execute_result"
    }
   ],
   "source": [
    "np.ones(2)"
   ]
  },
  {
   "cell_type": "code",
   "execution_count": 17,
   "id": "676d5eab",
   "metadata": {},
   "outputs": [
    {
     "data": {
      "text/plain": [
       "array([[1., 0., 0.],\n",
       "       [0., 1., 0.],\n",
       "       [0., 0., 1.]])"
      ]
     },
     "execution_count": 17,
     "metadata": {},
     "output_type": "execute_result"
    }
   ],
   "source": [
    "# a 3x3 identity matrix\n",
    "np.identity(3)"
   ]
  },
  {
   "cell_type": "markdown",
   "id": "b624067d",
   "metadata": {},
   "source": [
    "## Intra-operability of arrays and scalars"
   ]
  },
  {
   "cell_type": "code",
   "execution_count": 19,
   "id": "29226412",
   "metadata": {},
   "outputs": [],
   "source": [
    "c = np.array([[9.0,8.0,7.0],[1.0,2.0,3.0]])\n",
    "d = np.array([[4.0,5.0,6.0],[9.0,8.0,7.0]])"
   ]
  },
  {
   "cell_type": "code",
   "execution_count": 20,
   "id": "d9733d33",
   "metadata": {},
   "outputs": [
    {
     "data": {
      "text/plain": [
       "array([[13., 13., 13.],\n",
       "       [10., 10., 10.]])"
      ]
     },
     "execution_count": 20,
     "metadata": {},
     "output_type": "execute_result"
    }
   ],
   "source": [
    "c+d"
   ]
  },
  {
   "cell_type": "code",
   "execution_count": 21,
   "id": "642a4048",
   "metadata": {},
   "outputs": [
    {
     "data": {
      "text/plain": [
       "array([[36., 40., 42.],\n",
       "       [ 9., 16., 21.]])"
      ]
     },
     "execution_count": 21,
     "metadata": {},
     "output_type": "execute_result"
    }
   ],
   "source": [
    "c*d"
   ]
  },
  {
   "cell_type": "code",
   "execution_count": 22,
   "id": "938a08e5",
   "metadata": {},
   "outputs": [
    {
     "data": {
      "text/plain": [
       "array([[2.25      , 1.6       , 1.16666667],\n",
       "       [0.11111111, 0.25      , 0.42857143]])"
      ]
     },
     "execution_count": 22,
     "metadata": {},
     "output_type": "execute_result"
    }
   ],
   "source": [
    "c/d"
   ]
  },
  {
   "cell_type": "code",
   "execution_count": 23,
   "id": "32f48dc3",
   "metadata": {},
   "outputs": [
    {
     "data": {
      "text/plain": [
       "array([[81., 64., 49.],\n",
       "       [ 1.,  4.,  9.]])"
      ]
     },
     "execution_count": 23,
     "metadata": {},
     "output_type": "execute_result"
    }
   ],
   "source": [
    "c**2"
   ]
  },
  {
   "cell_type": "markdown",
   "id": "cf6852d8",
   "metadata": {},
   "source": [
    "## Indexing with arrays and usinge arrays for data processing"
   ]
  },
  {
   "cell_type": "code",
   "execution_count": 26,
   "id": "366a0b28",
   "metadata": {},
   "outputs": [
    {
     "name": "stdout",
     "output_type": "stream",
     "text": [
      "6\n",
      "9\n",
      "1\n",
      "6\n",
      "8.0\n"
     ]
    }
   ],
   "source": [
    "# The elements in the example arrays above can be accessed by indexing like lists in Python\n",
    "print(a[0])\n",
    "print(a[3])\n",
    "print(b[0,0])\n",
    "print(b[1, 2])\n",
    "print(c[0, 1])"
   ]
  },
  {
   "cell_type": "code",
   "execution_count": 27,
   "id": "1cdda527",
   "metadata": {},
   "outputs": [],
   "source": [
    "# Elements in arrays can also beretrieved by slicing rows and coloumns or a combination of in d[1, 0:2]\n",
    "e = np.array([[10,11,12],[13, 14, 15],\n",
    "             [16, 17, 18], [19, 20, 21]])"
   ]
  },
  {
   "cell_type": "code",
   "execution_count": 28,
   "id": "387fa32a",
   "metadata": {},
   "outputs": [
    {
     "name": "stdout",
     "output_type": "stream",
     "text": [
      "[[10 11 12]\n",
      " [13 14 15]\n",
      " [16 17 18]\n",
      " [19 20 21]]\n"
     ]
    }
   ],
   "source": [
    "print(e)"
   ]
  },
  {
   "cell_type": "code",
   "execution_count": 31,
   "id": "3081564e",
   "metadata": {},
   "outputs": [
    {
     "name": "stdout",
     "output_type": "stream",
     "text": [
      "[[10 11]\n",
      " [13 14]\n",
      " [16 17]]\n",
      "17\n"
     ]
    }
   ],
   "source": [
    "# Slicing\n",
    "print(e[:3, :2])\n",
    "print(e[2,1])"
   ]
  },
  {
   "cell_type": "code",
   "execution_count": 32,
   "id": "686f4edc",
   "metadata": {},
   "outputs": [
    {
     "name": "stdout",
     "output_type": "stream",
     "text": [
      "[18 11 19 15]\n"
     ]
    }
   ],
   "source": [
    "# There are other advanced methods of indexing which are shown below\n",
    "# Integer indexing\n",
    "print(e[[2, 0,3, 1],[2, 1, 0, 2]])"
   ]
  },
  {
   "cell_type": "code",
   "execution_count": 36,
   "id": "8b3677ae",
   "metadata": {},
   "outputs": [
    {
     "name": "stdout",
     "output_type": "stream",
     "text": [
      "[16 17 18 19 20 21]\n",
      "[10 12 14 16 18 20]\n"
     ]
    }
   ],
   "source": [
    "# boolean indexing meeting a specified condition\n",
    "print(e[e>15])\n",
    "print(e[e%2==0])"
   ]
  },
  {
   "cell_type": "code",
   "execution_count": null,
   "id": "91bd6fa8",
   "metadata": {},
   "outputs": [],
   "source": []
  }
 ],
 "metadata": {
  "kernelspec": {
   "display_name": "Python 3 (ipykernel)",
   "language": "python",
   "name": "python3"
  },
  "language_info": {
   "codemirror_mode": {
    "name": "ipython",
    "version": 3
   },
   "file_extension": ".py",
   "mimetype": "text/x-python",
   "name": "python",
   "nbconvert_exporter": "python",
   "pygments_lexer": "ipython3",
   "version": "3.10.6"
  }
 },
 "nbformat": 4,
 "nbformat_minor": 5
}
