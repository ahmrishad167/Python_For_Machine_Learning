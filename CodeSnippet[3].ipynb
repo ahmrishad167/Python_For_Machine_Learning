{
 "cells": [
  {
   "cell_type": "markdown",
   "id": "08409c5f",
   "metadata": {},
   "source": [
    "## Convetion of importing Pandas"
   ]
  },
  {
   "cell_type": "code",
   "execution_count": 1,
   "id": "2801dfc3",
   "metadata": {},
   "outputs": [],
   "source": [
    "import pandas as pd\n",
    "import numpy as np"
   ]
  },
  {
   "cell_type": "code",
   "execution_count": 3,
   "id": "4fb68a27",
   "metadata": {},
   "outputs": [
    {
     "name": "stdout",
     "output_type": "stream",
     "text": [
      "0       Monday\n",
      "1      Tuesday\n",
      "2    Wednesday\n",
      "dtype: object\n"
     ]
    }
   ],
   "source": [
    "days = pd.Series(['Monday','Tuesday','Wednesday'])\n",
    "print(days)"
   ]
  },
  {
   "cell_type": "code",
   "execution_count": 5,
   "id": "e48211b1",
   "metadata": {},
   "outputs": [
    {
     "name": "stdout",
     "output_type": "stream",
     "text": [
      "['Monday' 'Tuesday' 'Wednesday']\n",
      "0       Monday\n",
      "1      Tuesday\n",
      "2    Wednesday\n",
      "dtype: object\n"
     ]
    }
   ],
   "source": [
    "# Creating series with anumpy array\n",
    "days_list = np.array(['Monday', 'Tuesday','Wednesday'])\n",
    "print(days_list)\n",
    "numpy_days = pd.Series(days_list)\n",
    "print(numpy_days)"
   ]
  },
  {
   "cell_type": "code",
   "execution_count": 7,
   "id": "1e30fbe5",
   "metadata": {},
   "outputs": [
    {
     "name": "stdout",
     "output_type": "stream",
     "text": [
      "0       Monday\n",
      "1      Tuesday\n",
      "2    Wednesday\n",
      "dtype: object\n",
      "a       Monday\n",
      "b      Tuesday\n",
      "c    Wednesday\n",
      "dtype: object\n"
     ]
    }
   ],
   "source": [
    "# Using String index from a dictionary\n",
    "days1 = pd.Series({'a':'Monday','b':'Tuesday','c':'Wednesday'})\n",
    "print(days)\n",
    "print(days1)"
   ]
  },
  {
   "cell_type": "code",
   "execution_count": 14,
   "id": "32761232",
   "metadata": {},
   "outputs": [
    {
     "name": "stdout",
     "output_type": "stream",
     "text": [
      "Monday\n",
      "Wednesday\n",
      "0       Monday\n",
      "1      Tuesday\n",
      "2    Wednesday\n",
      "dtype: object\n",
      "2    Wednesday\n",
      "dtype: object\n",
      "0     Monday\n",
      "1    Tuesday\n",
      "dtype: object\n",
      "0       Monday\n",
      "1      Tuesday\n",
      "2    Wednesday\n",
      "dtype: object\n"
     ]
    }
   ],
   "source": [
    "# Accessing series by index value\n",
    "print(days[0])\n",
    "print(days1['c'])\n",
    "print(days[:])\n",
    "print(days[2:])\n",
    "print(days[:2])\n",
    "print(days[:])"
   ]
  },
  {
   "cell_type": "code",
   "execution_count": 15,
   "id": "0f3e7ebc",
   "metadata": {},
   "outputs": [
    {
     "name": "stdout",
     "output_type": "stream",
     "text": [
      "Empty DataFrame\n",
      "Columns: []\n",
      "Index: []\n"
     ]
    }
   ],
   "source": [
    "print(pd.DataFrame())"
   ]
  },
  {
   "cell_type": "code",
   "execution_count": 16,
   "id": "5c01de0c",
   "metadata": {},
   "outputs": [],
   "source": [
    "# Create a dataframe from a dictionary\n",
    "df_dict = {'Country':['Ghana','Kenya','Brazil','Bangladesh'],\n",
    "          'Capital':['Accra','Nairobi','Brazila','Dhaka'],\n",
    "          'Population':[10000,7500,3500,20000],\n",
    "          'Age':[60,70,80,90]}\n"
   ]
  },
  {
   "cell_type": "code",
   "execution_count": 17,
   "id": "3871fe14",
   "metadata": {},
   "outputs": [],
   "source": [
    "df = pd.DataFrame(df_dict,index=[2, 4, 6, 8])"
   ]
  },
  {
   "cell_type": "code",
   "execution_count": 18,
   "id": "0c97a26d",
   "metadata": {},
   "outputs": [
    {
     "name": "stdout",
     "output_type": "stream",
     "text": [
      "      Country  Capital  Population  Age\n",
      "2       Ghana    Accra       10000   60\n",
      "4       Kenya  Nairobi        7500   70\n",
      "6      Brazil  Brazila        3500   80\n",
      "8  Bangladesh    Dhaka       20000   90\n"
     ]
    }
   ],
   "source": [
    "print(df)"
   ]
  },
  {
   "cell_type": "code",
   "execution_count": 24,
   "id": "2f917ae6",
   "metadata": {},
   "outputs": [],
   "source": [
    "# Dataframe using list\n",
    "df_list = [['Ghana','Accra','10000',60],\n",
    "          ['Kenya','Nairobi',7500,70],\n",
    "          ['Brazil','Brazila',3500,80],\n",
    "           ['Bangladesh','Dhaka',20000,90]]\n",
    "\n",
    "df2 = pd.DataFrame(df_list, columns=['Country','Capital','Population','Age'], index =[2, 4, 6, 8])"
   ]
  },
  {
   "cell_type": "code",
   "execution_count": 25,
   "id": "1e12af99",
   "metadata": {},
   "outputs": [
    {
     "name": "stdout",
     "output_type": "stream",
     "text": [
      "      Country  Capital Population  Age\n",
      "2       Ghana    Accra      10000   60\n",
      "4       Kenya  Nairobi       7500   70\n",
      "6      Brazil  Brazila       3500   80\n",
      "8  Bangladesh    Dhaka      20000   90\n"
     ]
    }
   ],
   "source": [
    "print(df2)"
   ]
  },
  {
   "cell_type": "code",
   "execution_count": 29,
   "id": "13bc9903",
   "metadata": {},
   "outputs": [
    {
     "name": "stdout",
     "output_type": "stream",
     "text": [
      "Country       Bangladesh\n",
      "Capital            Dhaka\n",
      "Population         20000\n",
      "Age                   90\n",
      "Name: 8, dtype: object\n"
     ]
    }
   ],
   "source": [
    "# Select the rows in the index 3\n",
    "print(df2.iloc[3])"
   ]
  },
  {
   "cell_type": "code",
   "execution_count": 30,
   "id": "14f11bd3",
   "metadata": {},
   "outputs": [
    {
     "name": "stdout",
     "output_type": "stream",
     "text": [
      "Country        Brazil\n",
      "Capital       Brazila\n",
      "Population       3500\n",
      "Age                80\n",
      "Name: 6, dtype: object\n"
     ]
    }
   ],
   "source": [
    "# Select the rows in the index 3\n",
    "print(df2.iloc[2])"
   ]
  },
  {
   "cell_type": "code",
   "execution_count": 34,
   "id": "be407632",
   "metadata": {},
   "outputs": [
    {
     "name": "stdout",
     "output_type": "stream",
     "text": [
      "Country       Ghana\n",
      "Capital       Accra\n",
      "Population    10000\n",
      "Age             NaN\n",
      "Name: 2, dtype: object\n"
     ]
    }
   ],
   "source": [
    "# Select row with index label 6\n",
    "print(df.loc[2])"
   ]
  },
  {
   "cell_type": "code",
   "execution_count": 35,
   "id": "dcb6aa16",
   "metadata": {},
   "outputs": [
    {
     "name": "stdout",
     "output_type": "stream",
     "text": [
      "2      Accra\n",
      "4    Nairobi\n",
      "6    Brazila\n",
      "8      Dhaka\n",
      "Name: Capital, dtype: object\n"
     ]
    }
   ],
   "source": [
    "# Select the capital column\n",
    "print(df['Capital'])"
   ]
  },
  {
   "cell_type": "code",
   "execution_count": 37,
   "id": "10452ea0",
   "metadata": {},
   "outputs": [
    {
     "name": "stdout",
     "output_type": "stream",
     "text": [
      "Bangladesh\n"
     ]
    }
   ],
   "source": [
    "# print specific information\n",
    "print(df.at[8,'Country'])"
   ]
  },
  {
   "cell_type": "code",
   "execution_count": 40,
   "id": "64feda67",
   "metadata": {},
   "outputs": [
    {
     "name": "stdout",
     "output_type": "stream",
     "text": [
      "Brazil\n"
     ]
    }
   ],
   "source": [
    "print(df.iat[2,0])"
   ]
  },
  {
   "cell_type": "code",
   "execution_count": 42,
   "id": "8e5865a1",
   "metadata": {},
   "outputs": [
    {
     "name": "stdout",
     "output_type": "stream",
     "text": [
      "Brazila\n"
     ]
    }
   ],
   "source": [
    "print(df.iat[2,1])"
   ]
  },
  {
   "cell_type": "code",
   "execution_count": 43,
   "id": "9a2ac529",
   "metadata": {},
   "outputs": [
    {
     "name": "stdout",
     "output_type": "stream",
     "text": [
      "3500\n"
     ]
    }
   ],
   "source": [
    "print(df.iat[2,2])"
   ]
  },
  {
   "cell_type": "code",
   "execution_count": 44,
   "id": "cd8d9083",
   "metadata": {},
   "outputs": [
    {
     "name": "stdout",
     "output_type": "stream",
     "text": [
      "80.0\n"
     ]
    }
   ],
   "source": [
    "print(df.iat[2,3])"
   ]
  },
  {
   "cell_type": "code",
   "execution_count": 54,
   "id": "09b6b4d8",
   "metadata": {},
   "outputs": [
    {
     "data": {
      "text/plain": [
       "<bound method NDFrame._add_numeric_operations.<locals>.sum of 2    10000\n",
       "4     7500\n",
       "6     3500\n",
       "8    20000\n",
       "Name: Population, dtype: object>"
      ]
     },
     "execution_count": 54,
     "metadata": {},
     "output_type": "execute_result"
    }
   ],
   "source": [
    "df['Population'].sum"
   ]
  },
  {
   "cell_type": "code",
   "execution_count": 55,
   "id": "70406fa1",
   "metadata": {},
   "outputs": [
    {
     "name": "stderr",
     "output_type": "stream",
     "text": [
      "C:\\Users\\ahmri\\AppData\\Local\\Temp\\ipykernel_4476\\3698961737.py:1: FutureWarning: The default value of numeric_only in DataFrame.mean is deprecated. In a future version, it will default to False. In addition, specifying 'numeric_only=None' is deprecated. Select only valid columns or specify the value of numeric_only to silence this warning.\n",
      "  df.mean()\n"
     ]
    },
    {
     "data": {
      "text/plain": [
       "Age    80.0\n",
       "dtype: float64"
      ]
     },
     "execution_count": 55,
     "metadata": {},
     "output_type": "execute_result"
    }
   ],
   "source": [
    "df.mean()"
   ]
  },
  {
   "cell_type": "code",
   "execution_count": 56,
   "id": "dbf04fd6",
   "metadata": {},
   "outputs": [
    {
     "data": {
      "text/html": [
       "<div>\n",
       "<style scoped>\n",
       "    .dataframe tbody tr th:only-of-type {\n",
       "        vertical-align: middle;\n",
       "    }\n",
       "\n",
       "    .dataframe tbody tr th {\n",
       "        vertical-align: top;\n",
       "    }\n",
       "\n",
       "    .dataframe thead th {\n",
       "        text-align: right;\n",
       "    }\n",
       "</style>\n",
       "<table border=\"1\" class=\"dataframe\">\n",
       "  <thead>\n",
       "    <tr style=\"text-align: right;\">\n",
       "      <th></th>\n",
       "      <th>Age</th>\n",
       "    </tr>\n",
       "  </thead>\n",
       "  <tbody>\n",
       "    <tr>\n",
       "      <th>count</th>\n",
       "      <td>3.0</td>\n",
       "    </tr>\n",
       "    <tr>\n",
       "      <th>mean</th>\n",
       "      <td>80.0</td>\n",
       "    </tr>\n",
       "    <tr>\n",
       "      <th>std</th>\n",
       "      <td>10.0</td>\n",
       "    </tr>\n",
       "    <tr>\n",
       "      <th>min</th>\n",
       "      <td>70.0</td>\n",
       "    </tr>\n",
       "    <tr>\n",
       "      <th>25%</th>\n",
       "      <td>75.0</td>\n",
       "    </tr>\n",
       "    <tr>\n",
       "      <th>50%</th>\n",
       "      <td>80.0</td>\n",
       "    </tr>\n",
       "    <tr>\n",
       "      <th>75%</th>\n",
       "      <td>85.0</td>\n",
       "    </tr>\n",
       "    <tr>\n",
       "      <th>max</th>\n",
       "      <td>90.0</td>\n",
       "    </tr>\n",
       "  </tbody>\n",
       "</table>\n",
       "</div>"
      ],
      "text/plain": [
       "        Age\n",
       "count   3.0\n",
       "mean   80.0\n",
       "std    10.0\n",
       "min    70.0\n",
       "25%    75.0\n",
       "50%    80.0\n",
       "75%    85.0\n",
       "max    90.0"
      ]
     },
     "execution_count": 56,
     "metadata": {},
     "output_type": "execute_result"
    }
   ],
   "source": [
    "df.describe()"
   ]
  },
  {
   "cell_type": "code",
   "execution_count": 57,
   "id": "4b209936",
   "metadata": {},
   "outputs": [],
   "source": [
    "df_dict2 = {'Name':['James','Rishad','Sandeep'],\n",
    "           'Profession':['Researcher','BI Developer','Truck Driver'],\n",
    "           'Experience':[12, np.nan,10],\n",
    "           'Height':[np.nan,175, 180]}"
   ]
  },
  {
   "cell_type": "code",
   "execution_count": 58,
   "id": "65ba8d51",
   "metadata": {},
   "outputs": [
    {
     "name": "stdout",
     "output_type": "stream",
     "text": [
      "{'Name': ['James', 'Rishad', 'Sandeep'], 'Profession': ['Researcher', 'BI Developer', 'Truck Driver'], 'Experience': [12, nan, 10], 'Height': [nan, 175, 180]}\n"
     ]
    }
   ],
   "source": [
    "print(df_dict2)"
   ]
  },
  {
   "cell_type": "code",
   "execution_count": 59,
   "id": "ecdc618d",
   "metadata": {},
   "outputs": [],
   "source": [
    "new_df = pd.DataFrame(df_dict2)"
   ]
  },
  {
   "cell_type": "code",
   "execution_count": 60,
   "id": "0827627b",
   "metadata": {},
   "outputs": [
    {
     "data": {
      "text/html": [
       "<div>\n",
       "<style scoped>\n",
       "    .dataframe tbody tr th:only-of-type {\n",
       "        vertical-align: middle;\n",
       "    }\n",
       "\n",
       "    .dataframe tbody tr th {\n",
       "        vertical-align: top;\n",
       "    }\n",
       "\n",
       "    .dataframe thead th {\n",
       "        text-align: right;\n",
       "    }\n",
       "</style>\n",
       "<table border=\"1\" class=\"dataframe\">\n",
       "  <thead>\n",
       "    <tr style=\"text-align: right;\">\n",
       "      <th></th>\n",
       "      <th>Name</th>\n",
       "      <th>Profession</th>\n",
       "      <th>Experience</th>\n",
       "      <th>Height</th>\n",
       "    </tr>\n",
       "  </thead>\n",
       "  <tbody>\n",
       "    <tr>\n",
       "      <th>0</th>\n",
       "      <td>James</td>\n",
       "      <td>Researcher</td>\n",
       "      <td>12.0</td>\n",
       "      <td>NaN</td>\n",
       "    </tr>\n",
       "    <tr>\n",
       "      <th>1</th>\n",
       "      <td>Rishad</td>\n",
       "      <td>BI Developer</td>\n",
       "      <td>NaN</td>\n",
       "      <td>175.0</td>\n",
       "    </tr>\n",
       "    <tr>\n",
       "      <th>2</th>\n",
       "      <td>Sandeep</td>\n",
       "      <td>Truck Driver</td>\n",
       "      <td>10.0</td>\n",
       "      <td>180.0</td>\n",
       "    </tr>\n",
       "  </tbody>\n",
       "</table>\n",
       "</div>"
      ],
      "text/plain": [
       "      Name    Profession  Experience  Height\n",
       "0    James    Researcher        12.0     NaN\n",
       "1   Rishad  BI Developer         NaN   175.0\n",
       "2  Sandeep  Truck Driver        10.0   180.0"
      ]
     },
     "execution_count": 60,
     "metadata": {},
     "output_type": "execute_result"
    }
   ],
   "source": [
    "new_df"
   ]
  },
  {
   "cell_type": "code",
   "execution_count": 62,
   "id": "0b1ac238",
   "metadata": {},
   "outputs": [
    {
     "data": {
      "text/html": [
       "<div>\n",
       "<style scoped>\n",
       "    .dataframe tbody tr th:only-of-type {\n",
       "        vertical-align: middle;\n",
       "    }\n",
       "\n",
       "    .dataframe tbody tr th {\n",
       "        vertical-align: top;\n",
       "    }\n",
       "\n",
       "    .dataframe thead th {\n",
       "        text-align: right;\n",
       "    }\n",
       "</style>\n",
       "<table border=\"1\" class=\"dataframe\">\n",
       "  <thead>\n",
       "    <tr style=\"text-align: right;\">\n",
       "      <th></th>\n",
       "      <th>Name</th>\n",
       "      <th>Profession</th>\n",
       "      <th>Experience</th>\n",
       "      <th>Height</th>\n",
       "    </tr>\n",
       "  </thead>\n",
       "  <tbody>\n",
       "    <tr>\n",
       "      <th>0</th>\n",
       "      <td>False</td>\n",
       "      <td>False</td>\n",
       "      <td>False</td>\n",
       "      <td>True</td>\n",
       "    </tr>\n",
       "    <tr>\n",
       "      <th>1</th>\n",
       "      <td>False</td>\n",
       "      <td>False</td>\n",
       "      <td>True</td>\n",
       "      <td>False</td>\n",
       "    </tr>\n",
       "    <tr>\n",
       "      <th>2</th>\n",
       "      <td>False</td>\n",
       "      <td>False</td>\n",
       "      <td>False</td>\n",
       "      <td>False</td>\n",
       "    </tr>\n",
       "  </tbody>\n",
       "</table>\n",
       "</div>"
      ],
      "text/plain": [
       "    Name  Profession  Experience  Height\n",
       "0  False       False       False    True\n",
       "1  False       False        True   False\n",
       "2  False       False       False   False"
      ]
     },
     "execution_count": 62,
     "metadata": {},
     "output_type": "execute_result"
    }
   ],
   "source": [
    "new_df.isnull()"
   ]
  },
  {
   "cell_type": "code",
   "execution_count": 64,
   "id": "ed76289c",
   "metadata": {},
   "outputs": [
    {
     "data": {
      "text/html": [
       "<div>\n",
       "<style scoped>\n",
       "    .dataframe tbody tr th:only-of-type {\n",
       "        vertical-align: middle;\n",
       "    }\n",
       "\n",
       "    .dataframe tbody tr th {\n",
       "        vertical-align: top;\n",
       "    }\n",
       "\n",
       "    .dataframe thead th {\n",
       "        text-align: right;\n",
       "    }\n",
       "</style>\n",
       "<table border=\"1\" class=\"dataframe\">\n",
       "  <thead>\n",
       "    <tr style=\"text-align: right;\">\n",
       "      <th></th>\n",
       "      <th>Name</th>\n",
       "      <th>Profession</th>\n",
       "      <th>Experience</th>\n",
       "      <th>Height</th>\n",
       "    </tr>\n",
       "  </thead>\n",
       "  <tbody>\n",
       "    <tr>\n",
       "      <th>2</th>\n",
       "      <td>Sandeep</td>\n",
       "      <td>Truck Driver</td>\n",
       "      <td>10.0</td>\n",
       "      <td>180.0</td>\n",
       "    </tr>\n",
       "  </tbody>\n",
       "</table>\n",
       "</div>"
      ],
      "text/plain": [
       "      Name    Profession  Experience  Height\n",
       "2  Sandeep  Truck Driver        10.0   180.0"
      ]
     },
     "execution_count": 64,
     "metadata": {},
     "output_type": "execute_result"
    }
   ],
   "source": [
    "new_df.dropna()"
   ]
  },
  {
   "cell_type": "code",
   "execution_count": null,
   "id": "37850b5e",
   "metadata": {},
   "outputs": [],
   "source": []
  }
 ],
 "metadata": {
  "kernelspec": {
   "display_name": "Python 3 (ipykernel)",
   "language": "python",
   "name": "python3"
  },
  "language_info": {
   "codemirror_mode": {
    "name": "ipython",
    "version": 3
   },
   "file_extension": ".py",
   "mimetype": "text/x-python",
   "name": "python",
   "nbconvert_exporter": "python",
   "pygments_lexer": "ipython3",
   "version": "3.10.6"
  }
 },
 "nbformat": 4,
 "nbformat_minor": 5
}
